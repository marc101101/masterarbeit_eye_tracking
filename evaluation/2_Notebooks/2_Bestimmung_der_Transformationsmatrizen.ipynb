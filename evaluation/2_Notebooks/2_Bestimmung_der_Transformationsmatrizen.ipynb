{
 "cells": [
  {
   "cell_type": "markdown",
   "metadata": {},
   "source": [
    "# Bestimmung der Transformationsmatrizen\n"
   ]
  },
  {
   "cell_type": "markdown",
   "metadata": {},
   "source": [
    "1. Importieren der benötigten Bibliotheken\n",
    "2. Definition der elementaren Transformationen\n",
    "3. Dateipfade einlesen (Abgabeverzeichnis 1_Daten/2_processed)\n",
    "4. Transformationsbestimmungsfunktionen definieren\n",
    "5. Werte für alle Dateien bestimmen und abspeichern"
   ]
  },
  {
   "cell_type": "code",
   "execution_count": 1,
   "metadata": {},
   "outputs": [],
   "source": [
    "# Schritt 1: Importieren der benötigten Bibliotheken\n",
    "\n",
    "import sys\n",
    "import os\n",
    "import pandas as pd\n",
    "import numpy as np\n",
    "import math\n",
    "from ipywidgets import Button, interactive, IntSlider, FloatSlider\n",
    "from IPython.display import display, clear_output\n",
    "from ipywidgets import interactive, IntSlider, FloatSlider\n",
    "sys.path.append('../3_Lib/py')\n",
    "from helper import plot, plot_with_image, plot_vectors, plot_vectors_with_image, plot_vectors_with_image_and_aois, plot_heatmap\n"
   ]
  },
  {
   "cell_type": "code",
   "execution_count": 2,
   "metadata": {},
   "outputs": [],
   "source": [
    "# Schritt 2: Definition der elementaren Transformationen\n",
    "\n",
    "# siehe https://de.wikipedia.org/wiki/Abbildungsmatrix\n",
    "#       https://de.wikipedia.org/wiki/Koordinatentransformation\n",
    "#       https://de.wikipedia.org/wiki/Homogene_Koordinaten\n",
    "#       https://de.wikipedia.org/wiki/Drehmatrix\n",
    "\n",
    "def translate(x, y, z):\n",
    "    return np.array([\n",
    "        [1, 0, 0, x],\n",
    "        [0, 1, 0, y],\n",
    "        [0, 0, 1, z],\n",
    "        [0, 0, 0, 1]\n",
    "    ])\n",
    "\n",
    "def rotate_x(phi):\n",
    "    return np.array([\n",
    "        [1, 0,        0,         0],\n",
    "        [0, math.cos(phi), -math.sin(phi), 0],\n",
    "        [0, math.sin(phi), math.cos(phi),  0],\n",
    "        [0, 0,        0,         1]\n",
    "    ])\n",
    "\n",
    "def rotate_y(phi):\n",
    "    return np.array([\n",
    "        [math.cos(phi),  0, math.sin(phi), 0],\n",
    "        [0,         1, 0,        0],\n",
    "        [-math.sin(phi), 0, math.cos(phi), 0],\n",
    "        [0,         0, 0,        1]\n",
    "    ])\n",
    "\n",
    "def rotate_z(phi):\n",
    "    return np.array([\n",
    "        [math.cos(phi), -math.sin(phi), 0, 0],\n",
    "        [math.sin(phi), math.cos(phi),  0, 0],\n",
    "        [0,        0,         1, 0],\n",
    "        [0,        0,         0, 1]\n",
    "    ])\n",
    "\n",
    "def scale_x(factor):\n",
    "    return np.array([\n",
    "        [factor, 0, 0, 0],\n",
    "        [0, 1, 0, 0],\n",
    "        [0, 0, 1, 0],\n",
    "        [0, 0, 0, 1]\n",
    "    ])\n",
    "\n",
    "def scale_y(factor):\n",
    "    return np.array([\n",
    "        [1, 0, 0, 0],\n",
    "        [0, factor, 0, 0],\n",
    "        [0, 0, 1, 0],\n",
    "        [0, 0, 0, 1]\n",
    "    ])\n",
    "\n",
    "def scale_z(factor):\n",
    "    return np.array([\n",
    "        [1, 0, 0, 0],\n",
    "        [0, 1, 0, 0],\n",
    "        [0, 0, factor, 0],\n",
    "        [0, 0, 0, 1]\n",
    "    ])"
   ]
  },
  {
   "cell_type": "code",
   "execution_count": 31,
   "metadata": {},
   "outputs": [],
   "source": [
    "# Schritt 3: Dateipfade einlesen (Abgabeverzeichnis 1_Daten/2_processed)\n",
    "\n",
    "# siehe https://stackoverflow.com/questions/19587118/iterating-through-directories-with-python\n",
    "\n",
    "root = '../1_Daten/2_processed'\n",
    "FILE_NAMES = []\n",
    "\n",
    "for subdir, dirs, files in os.walk(root):\n",
    "    for file in files:\n",
    "        if 'annotation' not in file or '.csv' not in file:\n",
    "            continue\n",
    "        FILE_NAMES.append(os.path.join(subdir, file).replace('\\\\', '/'))        "
   ]
  },
  {
   "cell_type": "code",
   "execution_count": 187,
   "metadata": {},
   "outputs": [],
   "source": [
    "# Schritt 4: Transformationsbestimmungsfunktionen definieren\n",
    "\n",
    "class CameraValues(object):\n",
    "    def __init__(self):\n",
    "        self.RX = 0\n",
    "        self.RY = 90\n",
    "        self.RZ = 30\n",
    "        self.SX = 0.4\n",
    "        self.SY = 0.4\n",
    "        self.SZ = 0.4\n",
    "        self.DX = 5\n",
    "        self.DY = 215\n",
    "        self.DZ = 680\n",
    "        \n",
    "def test_and_save_camera_transformation(coordinates, client_id):\n",
    "    ORIGIN = np.array([[0, 0, 0, 1], [0, 0, 0, 1], [0, 0, 0, 1]], dtype=float)\n",
    "    AXES = np.array([[1000, 0, 0, 1], [0, 1000, 0, 1], [0, 0, 1000, 1]], dtype=float)\n",
    "    AXES_COLORS = [['r', 'k'], ['g', 'k'], ['b', 'k']]\n",
    "    \n",
    "    export_button = Button(description=\"Store to config.json\")\n",
    "    \n",
    "    cv = CameraValues()\n",
    "\n",
    "    def draw(cv, rx, ry, rz, sx, sy, sz, dx, dy, dz):\n",
    "        cv.RX, cv.RY, cv.RZ, cv.SX, cv.SY, cv.SZ, cv.DX, cv.DY, cv.DZ = rx, ry, rz, sx, sy, sz, dx, dy, dz\n",
    "        rot_x = rotate_x(math.radians(rx))\n",
    "        rot_y = rotate_y(math.radians(ry))\n",
    "        rot_z = rotate_z(math.radians(rz))\n",
    "\n",
    "        s_x = scale_x(sx)\n",
    "        s_y = scale_y(sy)\n",
    "        s_z = scale_z(sz)\n",
    "\n",
    "        d = translate(dx, dy, dz)\n",
    "\n",
    "        tr = scale_x(-1) @ rotate_y(math.radians(-90)) @ d @ s_z @ s_y @ s_x @ rot_z @ rot_y @ rot_x @ scale_y(-1)\n",
    "\n",
    "        plot_vectors_with_image(np.swapaxes(ORIGIN @ tr.T, 0, 1), np.swapaxes(AXES @ tr.T, 0, 1), 'Kameratest', colors=AXES_COLORS, line_width=3)\n",
    "        plot_with_image(np.swapaxes(coordinates @ tr.T, 0, 1), 'Transformierte Koordinaten')\n",
    "\n",
    "    interactive_plot_cam_1 = interactive(\n",
    "        lambda rx, ry, rz, sx, sy, sz, dx, dy, dz: draw(cv, rx, ry, rz, sx, sy, sz, dx, dy, dz),\n",
    "        rx=IntSlider(min=-180, max=180, step=1, value=0),\n",
    "        ry=IntSlider(min=-180, max=180, step=1, value=90),\n",
    "        rz=IntSlider(min=-180, max=180, step=1, value=40),\n",
    "        sx=FloatSlider(min=-0.01, max=1, step=0.01, value=0.4),\n",
    "        sy=FloatSlider(min=-0.01, max=1, step=0.01, value=0.4),\n",
    "        sz=FloatSlider(min=-0.01, max=1, step=0.01, value=0.4),\n",
    "        dx=IntSlider(min=-1000, max=1000, step=1, value=5),\n",
    "        dy=IntSlider(min=-1000, max=1000, step=1, value=200),\n",
    "        dz=IntSlider(min=-1000, max=1000, step=1, value=720)\n",
    "    )\n",
    "    \n",
    "    interactive_plot_cam_2 = interactive(\n",
    "        lambda rx, ry, rz, sx, sy, sz, dx, dy, dz: draw(cv, rx, ry, rz, sx, sy, sz, dx, dy, dz),\n",
    "        rx=IntSlider(min=-180, max=180, step=1, value=0),\n",
    "        ry=IntSlider(min=-180, max=180, step=1, value=90),\n",
    "        rz=IntSlider(min=-180, max=180, step=1, value=40),\n",
    "        sx=FloatSlider(min=-0.01, max=1, step=0.01, value=0.4),\n",
    "        sy=FloatSlider(min=-0.01, max=1, step=0.01, value=0.4),\n",
    "        sz=FloatSlider(min=-0.01, max=1, step=0.01, value=0.4),\n",
    "        dx=IntSlider(min=-1000, max=1000, step=1, value=5),\n",
    "        dy=IntSlider(min=-1000, max=1000, step=1, value=200),\n",
    "        dz=IntSlider(min=-1000, max=1000, step=1, value=535)\n",
    "    )\n",
    "    \n",
    "    interactive_plot_cam_3 = interactive(\n",
    "        lambda rx, ry, rz, sx, sy, sz, dx, dy, dz: draw(cv, rx, ry, rz, sx, sy, sz, dx, dy, dz),\n",
    "        rx=IntSlider(min=-180, max=180, step=1, value=0),\n",
    "        ry=IntSlider(min=-180, max=180, step=1, value=90),\n",
    "        rz=IntSlider(min=-180, max=180, step=1, value=40),\n",
    "        sx=FloatSlider(min=-0.01, max=1, step=0.01, value=0.4),\n",
    "        sy=FloatSlider(min=-0.01, max=1, step=0.01, value=0.4),\n",
    "        sz=FloatSlider(min=-0.01, max=1, step=0.01, value=0.4),\n",
    "        dx=IntSlider(min=-1000, max=1000, step=1, value=5),\n",
    "        dy=IntSlider(min=-1000, max=1000, step=1, value=200),\n",
    "        dz=IntSlider(min=-1000, max=1000, step=1, value=350)\n",
    "    )\n",
    "    \n",
    "    interactive_plot_cam_4 = interactive(\n",
    "        lambda rx, ry, rz, sx, sy, sz, dx, dy, dz: draw(cv, rx, ry, rz, sx, sy, sz, dx, dy, dz),\n",
    "        rx=IntSlider(min=-180, max=180, step=1, value=0),\n",
    "        ry=IntSlider(min=-180, max=180, step=1, value=90),\n",
    "        rz=IntSlider(min=-180, max=180, step=1, value=40),\n",
    "        sx=FloatSlider(min=-0.01, max=1, step=0.01, value=0.4),\n",
    "        sy=FloatSlider(min=-0.01, max=1, step=0.01, value=0.4),\n",
    "        sz=FloatSlider(min=-0.01, max=1, step=0.01, value=0.4),\n",
    "        dx=IntSlider(min=-1000, max=1000, step=1, value=5),\n",
    "        dy=IntSlider(min=-1000, max=1000, step=1, value=200),\n",
    "        dz=IntSlider(min=-1000, max=1000, step=1, value=165)\n",
    "    )\n",
    "    \n",
    "    if(client_id == \"cam_1\"):\n",
    "        return export_button, interactive_plot_cam_1\n",
    "    if(client_id == \"cam_2\"):\n",
    "        return export_button, interactive_plot_cam_2\n",
    "    if(client_id == \"cam_3\"):\n",
    "        return export_button, interactive_plot_cam_3\n",
    "    if(client_id == \"cam_4\"):\n",
    "        return export_button, interactive_plot_cam_4    \n",
    "    \n",
    "    return export_button, interactive_plot_cam_1"
   ]
  },
  {
   "cell_type": "code",
   "execution_count": 188,
   "metadata": {},
   "outputs": [],
   "source": [
    "# Schritt 5: Werte für alle Dateien bestimmen und abspeichern\n",
    "\n",
    "def get_next_file(client_id):\n",
    "    main_frame = pd.DataFrame()\n",
    "\n",
    "    for f in FILE_NAMES:\n",
    "        df = pd.read_csv(f, sep=',', engine='python')\n",
    "        main_frame = main_frame.append(df[(df['client_id'] == client_id)])\n",
    "        \n",
    "    coords = np.array([main_frame['eye_l_X'], main_frame['eye_l_Y'], main_frame['eye_l_Z']])\n",
    "    gazes = np.array([main_frame['gaze_l_X'], main_frame['gaze_l_Z'], main_frame['gaze_l_Y']])\n",
    "\n",
    "    coords = np.insert(np.swapaxes(coords, 0, 1), 3, 1, axis=1)\n",
    "    gazes = np.insert(np.swapaxes(coords, 0, 1), 3, 1, axis=1)\n",
    "    \n",
    "    print(\"Erkannte Blicke: \" + str(len(main_frame)))\n",
    "                    \n",
    "    return True, coords, gazes\n",
    "    \n",
    "    \n",
    "def handle_exported(client_id):\n",
    "    clear_output()\n",
    "    success, coordinates, gazes = get_next_file(client_id)\n",
    "    if success == True:\n",
    "        b1, interactive = test_and_save_camera_transformation(coordinates, client_id)\n",
    "        display(b1, interactive)\n",
    "        \n"
   ]
  },
  {
   "cell_type": "markdown",
   "metadata": {},
   "source": [
    "## Kamera 1 - id: client_1"
   ]
  },
  {
   "cell_type": "code",
   "execution_count": 189,
   "metadata": {},
   "outputs": [
    {
     "name": "stdout",
     "output_type": "stream",
     "text": [
      "Erkannte Blicke: 2158\n"
     ]
    },
    {
     "data": {
      "application/vnd.jupyter.widget-view+json": {
       "model_id": "4b21a547d5414641a540b43825b1d534",
       "version_major": 2,
       "version_minor": 0
      },
      "text/plain": [
       "Button(description='Store to config.json', style=ButtonStyle())"
      ]
     },
     "metadata": {},
     "output_type": "display_data"
    },
    {
     "data": {
      "application/vnd.jupyter.widget-view+json": {
       "model_id": "d1653db18a8245799b3f584abc2c59c0",
       "version_major": 2,
       "version_minor": 0
      },
      "text/plain": [
       "interactive(children=(IntSlider(value=0, description='rx', max=180, min=-180), IntSlider(value=90, description…"
      ]
     },
     "metadata": {},
     "output_type": "display_data"
    }
   ],
   "source": [
    "handle_exported(\"cam_1\")"
   ]
  },
  {
   "cell_type": "markdown",
   "metadata": {},
   "source": [
    "## Kamera 2 - id: client_2"
   ]
  },
  {
   "cell_type": "code",
   "execution_count": 190,
   "metadata": {},
   "outputs": [
    {
     "name": "stdout",
     "output_type": "stream",
     "text": [
      "Erkannte Blicke: 2580\n"
     ]
    },
    {
     "data": {
      "application/vnd.jupyter.widget-view+json": {
       "model_id": "3538b5cb96d0488c9571b4e46c68035c",
       "version_major": 2,
       "version_minor": 0
      },
      "text/plain": [
       "Button(description='Store to config.json', style=ButtonStyle())"
      ]
     },
     "metadata": {},
     "output_type": "display_data"
    },
    {
     "data": {
      "application/vnd.jupyter.widget-view+json": {
       "model_id": "54bd69d94e4f48cbbf9c64de74913875",
       "version_major": 2,
       "version_minor": 0
      },
      "text/plain": [
       "interactive(children=(IntSlider(value=0, description='rx', max=180, min=-180), IntSlider(value=90, description…"
      ]
     },
     "metadata": {},
     "output_type": "display_data"
    }
   ],
   "source": [
    "handle_exported(\"cam_2\")"
   ]
  },
  {
   "cell_type": "markdown",
   "metadata": {},
   "source": [
    "## Kamera 3 - id: client_3"
   ]
  },
  {
   "cell_type": "code",
   "execution_count": 191,
   "metadata": {},
   "outputs": [
    {
     "name": "stdout",
     "output_type": "stream",
     "text": [
      "Erkannte Blicke: 2164\n"
     ]
    },
    {
     "data": {
      "application/vnd.jupyter.widget-view+json": {
       "model_id": "2fcf629262344f42a26a5a1ae321af78",
       "version_major": 2,
       "version_minor": 0
      },
      "text/plain": [
       "Button(description='Store to config.json', style=ButtonStyle())"
      ]
     },
     "metadata": {},
     "output_type": "display_data"
    },
    {
     "data": {
      "application/vnd.jupyter.widget-view+json": {
       "model_id": "6a3333eac29049b9af32f26232bf2ba4",
       "version_major": 2,
       "version_minor": 0
      },
      "text/plain": [
       "interactive(children=(IntSlider(value=0, description='rx', max=180, min=-180), IntSlider(value=90, description…"
      ]
     },
     "metadata": {},
     "output_type": "display_data"
    }
   ],
   "source": [
    "handle_exported(\"cam_3\")"
   ]
  },
  {
   "cell_type": "markdown",
   "metadata": {},
   "source": [
    "## Kamera 4 - id: client_4"
   ]
  },
  {
   "cell_type": "code",
   "execution_count": 192,
   "metadata": {},
   "outputs": [
    {
     "name": "stdout",
     "output_type": "stream",
     "text": [
      "Erkannte Blicke: 4218\n"
     ]
    },
    {
     "data": {
      "application/vnd.jupyter.widget-view+json": {
       "model_id": "a35d556c9a9a4f53bbc6ed02c6733a40",
       "version_major": 2,
       "version_minor": 0
      },
      "text/plain": [
       "Button(description='Store to config.json', style=ButtonStyle())"
      ]
     },
     "metadata": {},
     "output_type": "display_data"
    },
    {
     "data": {
      "application/vnd.jupyter.widget-view+json": {
       "model_id": "a6a1f38796fd4609a1401b700a6c1a6b",
       "version_major": 2,
       "version_minor": 0
      },
      "text/plain": [
       "interactive(children=(IntSlider(value=0, description='rx', max=180, min=-180), IntSlider(value=90, description…"
      ]
     },
     "metadata": {},
     "output_type": "display_data"
    }
   ],
   "source": [
    "handle_exported(\"cam_4\")"
   ]
  }
 ],
 "metadata": {
  "kernelspec": {
   "display_name": "Python 3",
   "language": "python",
   "name": "python3"
  },
  "language_info": {
   "codemirror_mode": {
    "name": "ipython",
    "version": 3
   },
   "file_extension": ".py",
   "mimetype": "text/x-python",
   "name": "python",
   "nbconvert_exporter": "python",
   "pygments_lexer": "ipython3",
   "version": "3.7.3"
  }
 },
 "nbformat": 4,
 "nbformat_minor": 2
}
