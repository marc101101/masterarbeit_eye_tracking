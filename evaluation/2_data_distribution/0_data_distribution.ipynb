{
 "cells": [
  {
   "cell_type": "markdown",
   "metadata": {},
   "source": [
    "# Auswertung - Verteilung der Daten"
   ]
  },
  {
   "cell_type": "markdown",
   "metadata": {},
   "source": [
    "In diesem ersten Abschnitt soll die Verteilung, der bei der Evaluierung vom 12.6 - 14.6 erhobenen Daten, festgestellt werden. Dabei ist einersteits interessant wie viele Datenpunkte pro Person, Area of Interest (AOI) bzw. pro Position erhoben wurden. Dieses erste Teil der Auswertung soll daher einen ersten Überblick über die erobenen Daten gewähren und zusätzlich Indiezien darüber liefern, welche erste Limitationen für das, der Evaluation zu grundelegende, System erkannt werden können."
   ]
  },
  {
   "cell_type": "code",
   "execution_count": 1,
   "metadata": {},
   "outputs": [],
   "source": [
    "import os\n",
    "import pandas as pd\n",
    "import matplotlib.pyplot as plt\n",
    "import matplotlib.image as mpimg\n",
    "import matplotlib.patches as patches\n",
    "import numpy as np\n",
    "import math\n",
    "\n",
    "from datetime import datetime"
   ]
  },
  {
   "cell_type": "code",
   "execution_count": 2,
   "metadata": {},
   "outputs": [],
   "source": [
    "root = '../0_annotation'\n",
    "file_names = []\n",
    "\n",
    "for subdir, dirs, files in os.walk(root):\n",
    "    for file in files:\n",
    "        if 'annotation' not in file or '.csv' not in file:\n",
    "            continue\n",
    "        file_names.append(os.path.join(subdir, file).replace('\\\\', '/'))"
   ]
  },
  {
   "cell_type": "markdown",
   "metadata": {},
   "source": [
    "# Frage 1: Gesamtzahl der gesammelten Daten"
   ]
  },
  {
   "cell_type": "code",
   "execution_count": 3,
   "metadata": {
    "scrolled": true
   },
   "outputs": [
    {
     "data": {
      "text/html": [
       "<div>\n",
       "<style scoped>\n",
       "    .dataframe tbody tr th:only-of-type {\n",
       "        vertical-align: middle;\n",
       "    }\n",
       "\n",
       "    .dataframe tbody tr th {\n",
       "        vertical-align: top;\n",
       "    }\n",
       "\n",
       "    .dataframe thead th {\n",
       "        text-align: right;\n",
       "    }\n",
       "</style>\n",
       "<table border=\"1\" class=\"dataframe\">\n",
       "  <thead>\n",
       "    <tr style=\"text-align: right;\">\n",
       "      <th></th>\n",
       "      <th>Frames</th>\n",
       "      <th>Zeitpunkt</th>\n",
       "      <th>Test Person</th>\n",
       "      <th>Frames mit Gesicht</th>\n",
       "      <th>Frames mit Blick</th>\n",
       "      <th>Dateipfad</th>\n",
       "    </tr>\n",
       "  </thead>\n",
       "  <tbody>\n",
       "    <tr>\n",
       "      <th>0</th>\n",
       "      <td>13013</td>\n",
       "      <td>2019-06-12 09:44:18</td>\n",
       "      <td>01</td>\n",
       "      <td>13013</td>\n",
       "      <td>245</td>\n",
       "      <td>../0_annotation/01__annotation_2019_06_12_10_2...</td>\n",
       "    </tr>\n",
       "  </tbody>\n",
       "</table>\n",
       "</div>"
      ],
      "text/plain": [
       "   Frames           Zeitpunkt Test Person  Frames mit Gesicht  \\\n",
       "0   13013 2019-06-12 09:44:18          01               13013   \n",
       "\n",
       "   Frames mit Blick                                          Dateipfad  \n",
       "0               245  ../0_annotation/01__annotation_2019_06_12_10_2...  "
      ]
     },
     "execution_count": 3,
     "metadata": {},
     "output_type": "execute_result"
    }
   ],
   "source": [
    "info_titles = [\n",
    "    'Frames',\n",
    "    'Zeitpunkt',\n",
    "    'Test Person',\n",
    "    'Frames mit Gesicht',\n",
    "    'Frames mit Blick',\n",
    "    'Dateipfad'\n",
    "]\n",
    "\n",
    "# Important vars for further analysis\n",
    "\n",
    "info_data = []\n",
    "counter_gaze = []\n",
    "frames_with_face = []\n",
    "testers = []\n",
    "aoi_hits = {}\n",
    "position_hits = {}\n",
    "positions_by_aoi_hits = []\n",
    "\n",
    "for f in file_names:\n",
    "    df = pd.read_csv(f, sep=',', engine='python')\n",
    "    \n",
    "    # meta data\n",
    "    count_total = len(df['frame'])\n",
    "    last_ts = datetime.fromtimestamp(df['server_timestamp'][count_total - 1])\n",
    "    test_person = str((df['annotation_test_person_id'][count_total - 1]))[:-1]\n",
    "    \n",
    "    # gaze & face hits\n",
    "    count_face = len(df[(df[['eye_lmk_X_0','eye_lmk_Y_0','eye_lmk_Z_0']] != 0).all(axis=1)]['frame'])\n",
    "    count_gaze = len(df[(df[['gaze_direction_0_x','gaze_direction_0_y','gaze_direction_0_z']] != 0).all(axis=1)]['frame'])\n",
    "    \n",
    "    # aoi & positions hits\n",
    "    uniqueValues, occurCount = np.unique(df[(df[['gaze_direction_0_x','gaze_direction_0_y','gaze_direction_0_z']] != 0).all(axis=1)]['annotation_aoi'],\n",
    "                                         return_counts=True)\n",
    "    current_aois = occurCount\n",
    "    \n",
    "    uniqueValues, occurCount = np.unique(df[(df[['gaze_direction_0_x','gaze_direction_0_y','gaze_direction_0_z']] != 0).all(axis=1)]['annotation_pos'],\n",
    "                                         return_counts=True)\n",
    "    current_positions = occurCount\n",
    "    \n",
    "    # aoi vs. positions hits\n",
    "    tempFrame = df[(df[['gaze_direction_0_x','gaze_direction_0_y','gaze_direction_0_z']] != 0).all(axis=1)]\n",
    "    result_pos_aoi = tempFrame.groupby(['annotation_pos','annotation_aoi']).size().reset_index().rename(columns={0:'count'})\n",
    "\n",
    "    # extract data separately\n",
    "    info_data.append([count_total, last_ts, test_person, count_face, count_gaze, f])\n",
    "    counter_gaze.append(count_gaze)\n",
    "    frames_with_face.append(count_face)    \n",
    "    positions_by_aoi_hits.append(result_pos_aoi)\n",
    "    \n",
    "    aoi_hits['tester_' + test_person] = current_aois\n",
    "    position_hits['tester_' + test_person] = current_positions\n",
    "    \n",
    "    testers.append(test_person)\n",
    "\n",
    "pd.DataFrame(info_data, columns=info_titles)"
   ]
  },
  {
   "cell_type": "code",
   "execution_count": 4,
   "metadata": {
    "scrolled": false
   },
   "outputs": [
    {
     "data": {
      "image/png": "[encoded data removed]",
      "text/plain": [
       "<Figure size 1224x360 with 1 Axes>"
      ]
     },
     "metadata": {
      "needs_background": "light"
     },
     "output_type": "display_data"
    }
   ],
   "source": [
    "y_pos = np.arange(len(testers))\n",
    "\n",
    "plt.rcParams[\"figure.figsize\"] = (17, 5) # (w, h)\n",
    "\n",
    "plt.bar(y_pos, counter_gaze, align='center', color = 'b')\n",
    "plt.xticks(y_pos, testers)\n",
    "plt.ylabel('Anzahl der Blicke')\n",
    "plt.title('Frames mit Blick pro Nutzer')\n",
    "\n",
    "plt.show()"
   ]
  },
  {
   "cell_type": "markdown",
   "metadata": {},
   "source": [
    "# Frage 2: Verhältnis von “Erkannt” und “Nicht-Erkannt”"
   ]
  },
  {
   "cell_type": "code",
   "execution_count": 5,
   "metadata": {
    "scrolled": false
   },
   "outputs": [
    {
     "name": "stdout",
     "output_type": "stream",
     "text": [
      "Frames mit Gesicht: 13013\n",
      "Frames mit Blick: 245\n",
      "Verhältnis zwischen Gesicht (98.15%) und Blick(1.85%)\n"
     ]
    },
    {
     "data": {
      "image/png": "[encoded data removed]",
      "text/plain": [
       "<Figure size 1224x360 with 1 Axes>"
      ]
     },
     "metadata": {
      "needs_background": "light"
     },
     "output_type": "display_data"
    }
   ],
   "source": [
    "y_pos = np.arange(len(testers))\n",
    "\n",
    "plt.rcParams[\"figure.figsize\"] = (17, 5) # (w, h)\n",
    "\n",
    "plt.bar(y_pos, counter_gaze, align='center', color = 'b')\n",
    "plt.bar(y_pos, frames_with_face, align='center', color = 'r', bottom = counter_gaze)\n",
    "plt.xticks(y_pos, testers)\n",
    "plt.ylabel('Nutzer')\n",
    "plt.title('Anzahl der Gesichter vs. Blicke')\n",
    "\n",
    "sum_face = np.sum(frames_with_face)\n",
    "sum_gaze = np.sum(counter_gaze)\n",
    "\n",
    "percent_face = str(round(sum_face / ((sum_face + sum_gaze)/100), 2))\n",
    "percent_gaze = str(round(sum_gaze / ((sum_face + sum_gaze)/100), 2))\n",
    "\n",
    "\n",
    "print(\"Frames mit Gesicht: \" + str(sum_face))\n",
    "print(\"Frames mit Blick: \" + str(sum_gaze))\n",
    "print(\"Verhältnis zwischen Gesicht (\" + percent_face + \"%) und Blick(\" + percent_gaze + \"%)\")\n",
    "\n",
    "plt.show()"
   ]
  },
  {
   "cell_type": "markdown",
   "metadata": {},
   "source": [
    "# Frage 3: Verteilung der Hits auf die einzelnen AOIs "
   ]
  },
  {
   "cell_type": "markdown",
   "metadata": {},
   "source": [
    "## Verteilung der Hits auf AOIs - gesamt"
   ]
  },
  {
   "cell_type": "code",
   "execution_count": 6,
   "metadata": {},
   "outputs": [
    {
     "data": {
      "text/plain": [
       "Text(0.5, 1.0, 'AOIs')"
      ]
     },
     "execution_count": 6,
     "metadata": {},
     "output_type": "execute_result"
    },
    {
     "data": {
      "image/png": "[encoded data removed]",
      "text/plain": [
       "<Figure size 1224x360 with 1 Axes>"
      ]
     },
     "metadata": {
      "needs_background": "light"
     },
     "output_type": "display_data"
    }
   ],
   "source": [
    "y_pos = np.arange(len(aoi_hits['tester_01']))\n",
    "\n",
    "plt.rcParams[\"figure.figsize\"] = (17, 5) # (w, h)\n",
    "plt.bar(y_pos, sum(aoi_hits[key] for key in aoi_hits), align='center')\n",
    "\n",
    "plt.ylabel('Anzahl der Treffer pro AOI')\n",
    "plt.title('AOIs')"
   ]
  },
  {
   "cell_type": "markdown",
   "metadata": {},
   "source": [
    "## Verteilung der Hits  auf AOIs - pro Nutzer"
   ]
  },
  {
   "cell_type": "code",
   "execution_count": 7,
   "metadata": {},
   "outputs": [
    {
     "data": {
      "text/plain": [
       "Text(0.5, 1.0, 'Nutzer')"
      ]
     },
     "execution_count": 7,
     "metadata": {},
     "output_type": "execute_result"
    },
    {
     "data": {
      "image/png": "[encoded data removed]",
      "text/plain": [
       "<Figure size 1224x720 with 1 Axes>"
      ]
     },
     "metadata": {
      "needs_background": "light"
     },
     "output_type": "display_data"
    }
   ],
   "source": [
    "plt.rcParams[\"figure.figsize\"] = (17, 10) # (w, h)\n",
    "\n",
    "df=pd.DataFrame(aoi_hits).transpose()\n",
    "df.plot(kind='bar', stacked=True)\n",
    "\n",
    "plt.ylabel('Anzahl der Treffer pro AOI')\n",
    "plt.title('Nutzer')"
   ]
  },
  {
   "cell_type": "markdown",
   "metadata": {},
   "source": [
    "# Frage 4: Verteilung der Hits auf die einzelnen Positionen"
   ]
  },
  {
   "cell_type": "markdown",
   "metadata": {},
   "source": [
    "## Verteilung der Hits auf Positionen - gesamt"
   ]
  },
  {
   "cell_type": "code",
   "execution_count": 8,
   "metadata": {},
   "outputs": [
    {
     "data": {
      "text/plain": [
       "Text(0.5, 1.0, 'AOIs')"
      ]
     },
     "execution_count": 8,
     "metadata": {},
     "output_type": "execute_result"
    },
    {
     "data": {
      "image/png": "[encoded data removed]",
      "text/plain": [
       "<Figure size 1224x360 with 1 Axes>"
      ]
     },
     "metadata": {
      "needs_background": "light"
     },
     "output_type": "display_data"
    }
   ],
   "source": [
    "y_pos = np.arange(len(position_hits['tester_01']))\n",
    "\n",
    "plt.rcParams[\"figure.figsize\"] = (17, 5) # (w, h)\n",
    "plt.bar(y_pos+1, sum(position_hits[key] for key in aoi_hits), align='center')\n",
    "\n",
    "plt.ylabel('Anzahl der Treffer pro Position')\n",
    "plt.title('AOIs')"
   ]
  },
  {
   "cell_type": "markdown",
   "metadata": {},
   "source": [
    "## Verteilung der Hits auf Positionen - pro Nutzer"
   ]
  },
  {
   "cell_type": "code",
   "execution_count": 9,
   "metadata": {},
   "outputs": [
    {
     "data": {
      "text/plain": [
       "Text(0.5, 1.0, 'Nutzer')"
      ]
     },
     "execution_count": 9,
     "metadata": {},
     "output_type": "execute_result"
    },
    {
     "data": {
      "image/png": "[encoded data removed]",
      "text/plain": [
       "<Figure size 1224x360 with 1 Axes>"
      ]
     },
     "metadata": {
      "needs_background": "light"
     },
     "output_type": "display_data"
    }
   ],
   "source": [
    "plt.rcParams[\"figure.figsize\"] = (17, 5) # (w, h)\n",
    "\n",
    "df=pd.DataFrame(position_hits).transpose()\n",
    "df.plot(kind='bar', stacked=True)\n",
    "\n",
    "plt.ylabel('Anzahl der Treffer pro Position')\n",
    "plt.title('Nutzer')"
   ]
  },
  {
   "cell_type": "markdown",
   "metadata": {},
   "source": [
    "# Frage 5: Verteilung der Hits auf die AOIs pro Position"
   ]
  },
  {
   "cell_type": "code",
   "execution_count": 35,
   "metadata": {},
   "outputs": [
    {
     "name": "stdout",
     "output_type": "stream",
     "text": [
      "False    75\n",
      "True     13\n",
      "dtype: int64\n"
     ]
    }
   ],
   "source": [
    "y_pos = np.arange(len(range(29)))\n",
    "\n",
    "test = (positions_by_aoi_hits[['annotation_pos']] == 2).all(axis=1).value_counts()\n",
    "print(test)\n",
    "#plt.rcParams[\"figure.figsize\"] = (17, 3) # (w, h)\n",
    "#plt.bar(y_pos+1, positions_by_aoi_hits[0]['count'], align='center')\n",
    "\n",
    "#plt.ylabel('Anzahl der Treffer pro Position')\n",
    "#plt.title('Positons')"
   ]
  },
  {
   "cell_type": "code",
   "execution_count": null,
   "metadata": {},
   "outputs": [],
   "source": []
  },
  {
   "cell_type": "code",
   "execution_count": null,
   "metadata": {},
   "outputs": [],
   "source": []
  }
 ],
 "metadata": {
  "kernelspec": {
   "display_name": "Python 3",
   "language": "python",
   "name": "python3"
  },
  "language_info": {
   "codemirror_mode": {
    "name": "ipython",
    "version": 3
   },
   "file_extension": ".py",
   "mimetype": "text/x-python",
   "name": "python",
   "nbconvert_exporter": "python",
   "pygments_lexer": "ipython3",
   "version": "3.7.3"
  }
 },
 "nbformat": 4,
 "nbformat_minor": 2
}
