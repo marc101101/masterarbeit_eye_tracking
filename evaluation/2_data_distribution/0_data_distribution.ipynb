{
 "cells": [
  {
   "cell_type": "markdown",
   "metadata": {},
   "source": [
    "# Auswertung - Verteilung der Daten"
   ]
  },
  {
   "cell_type": "markdown",
   "metadata": {},
   "source": [
    "In diesem ersten Abschnitt soll die Verteilung, der bei der Evaluierung vom 12.6 - 14.6 erhobenen Daten, festgestellt werden. Dabei ist einersteits interessant wie viele Datenpunkte pro Person, Area of Interest (AOI) bzw. pro Position erhoben wurden. Dieses erste Teil der Auswertung soll daher einen ersten Überblick über die erobenen Daten gewähren und zusätzlich Indiezien darüber liefern, welche erste Limitationen für das, der Evaluation zu grundelegende, System erkannt werden können.\n",
    "\n",
    "### Auswertungs-Fragen:\n",
    "* [Frage 1: Gesamtzahl der gesammelten Daten](#cell1)\n",
    "* [Frage 2: Verhältnis von “Erkannt” und “Nicht-Erkannt”](#cell2)\n",
    "* [Frage 3: Verteilung der Hits auf die einzelnen AOIs](#cell3)\n",
    "* [Frage 4: Verteilung der Hits auf die einzelnen Positionen](#cell4)\n",
    "* [Frage 5: Verteilung der Hits auf die AOIs pro Position](#cell5)\n",
    "* [Frage 6: Verteilung der Hits auf die Clients](#cell6)"
   ]
  },
  {
   "cell_type": "code",
   "execution_count": 1,
   "metadata": {},
   "outputs": [],
   "source": [
    "import os\n",
    "import pandas as pd\n",
    "import matplotlib.pyplot as plt\n",
    "import matplotlib.image as mpimg\n",
    "import matplotlib.patches as patches\n",
    "import numpy as np\n",
    "import math\n",
    "\n",
    "from datetime import datetime"
   ]
  },
  {
   "cell_type": "code",
   "execution_count": 80,
   "metadata": {},
   "outputs": [],
   "source": [
    "root = '../0_annotation'\n",
    "file_names = []\n",
    "\n",
    "for subdir, dirs, files in os.walk(root):\n",
    "    for file in files:\n",
    "        if 'annotation' not in file or '.csv' not in file:\n",
    "            continue\n",
    "        file_names.append(os.path.join(subdir, file).replace('\\\\', '/'))"
   ]
  },
  {
   "cell_type": "markdown",
   "metadata": {},
   "source": [
    "<a id=\"cell1\"></a>\n",
    "# Frage 1: Gesamtzahl der gesammelten Daten"
   ]
  },
  {
   "cell_type": "markdown",
   "metadata": {},
   "source": [
    "**Ziel:** WAS IST DAS ZIEL."
   ]
  },
  {
   "cell_type": "code",
   "execution_count": 96,
   "metadata": {
    "scrolled": true
   },
   "outputs": [],
   "source": [
    "info_titles = [\n",
    "    'Frames',\n",
    "    'Zeitpunkt',\n",
    "    'Test Person',\n",
    "    'Frames mit Gesicht',\n",
    "    'Frames mit Blick',\n",
    "    'Dateipfad'\n",
    "]\n",
    "\n",
    "# Important vars for further analysis\n",
    "\n",
    "info_data = []\n",
    "counter_gaze = []\n",
    "frames_with_face = []\n",
    "testers = []\n",
    "aoi_hits = []\n",
    "position_hits = {}\n",
    "positions_by_aoi_hits = []\n",
    "client_data = {}\n",
    "\n",
    "for f in file_names:\n",
    "    df = pd.read_csv(f, sep=',', engine='python')\n",
    "    \n",
    "    # meta data\n",
    "    count_total = len(df['frame'])\n",
    "    last_ts = datetime.fromtimestamp(df['server_timestamp'][count_total - 1])\n",
    "    test_person = str((df['annotation_test_person_id'][count_total - 1]))[:-1]\n",
    "       \n",
    "    \n",
    "    # gaze & face hits\n",
    "    count_face = len(df[(df[['eye_lmk_X_0','eye_lmk_Y_0','eye_lmk_Z_0']] != 0).all(axis=1)]['frame'])\n",
    "    count_gaze = len(df[(df[['gaze_direction_0_x','gaze_direction_0_y','gaze_direction_0_z']] != 0).all(axis=1)]['frame'])\n",
    "    \n",
    "    # aoi & positions hits\n",
    "    uniqueValues, occurCount = np.unique(df[(df[['gaze_direction_0_x','gaze_direction_0_y','gaze_direction_0_z']] != 0).all(axis=1)]['annotation_aoi'],\n",
    "                                         return_counts=True)\n",
    "                 \n",
    "    current_aois = pd.DataFrame(occurCount, index =uniqueValues, columns=[\"tester_\" + test_person]) \n",
    "    \n",
    "    uniqueValues, occurCount = np.unique(df[(df[['gaze_direction_0_x','gaze_direction_0_y','gaze_direction_0_z']] != 0).all(axis=1)]['annotation_pos'],\n",
    "                                         return_counts=True)\n",
    "    current_positions = occurCount\n",
    "    \n",
    "    # aoi vs. positions hits\n",
    "    tempFrame = df[(df[['gaze_direction_0_x','gaze_direction_0_y','gaze_direction_0_z']] != 0).all(axis=1)]\n",
    "    result_pos_aoi = tempFrame.groupby(['annotation_pos','annotation_aoi']).size().reset_index().rename(columns={0:'count'})\n",
    "    \n",
    "    #client\n",
    "    uniqueValues, occurCount = np.unique(df[(df[['gaze_direction_0_x','gaze_direction_0_y','gaze_direction_0_z']] != 0).all(axis=1)]['client_id'],\n",
    "                                         return_counts=True)\n",
    "    client_hits = occurCount\n",
    "    \n",
    "    # extract data separately\n",
    "    info_data.append([count_total, last_ts, test_person, count_face, count_gaze, f])\n",
    "    counter_gaze.append(count_gaze)\n",
    "    frames_with_face.append(count_face)    \n",
    "    positions_by_aoi_hits.append(result_pos_aoi)\n",
    "    \n",
    "    aoi_hits.append(current_aois)\n",
    "    position_hits['tester_' + test_person] = current_positions\n",
    "    client_data['tester_' + test_person] = client_hits\n",
    "    \n",
    "    testers.append(test_person)\n",
    "\n",
    "pd.DataFrame(info_data, columns=info_titles)\n",
    "aoi_hits = pd.concat(aoi_hits, axis=1)"
   ]
  },
  {
   "cell_type": "code",
   "execution_count": 97,
   "metadata": {
    "scrolled": false
   },
   "outputs": [
    {
     "data": {
      "image/png": "[encoded data removed]",
      "text/plain": [
       "<Figure size 1224x360 with 1 Axes>"
      ]
     },
     "metadata": {
      "needs_background": "light"
     },
     "output_type": "display_data"
    }
   ],
   "source": [
    "y_pos = np.arange(len(testers))\n",
    "\n",
    "plt.rcParams[\"figure.figsize\"] = (17, 5) # (w, h)\n",
    "\n",
    "plt.bar(y_pos, counter_gaze, align='center', color = 'b')\n",
    "plt.xticks(y_pos, testers)\n",
    "plt.ylabel('Anzahl der Blicke')\n",
    "plt.title('Frames mit Blick pro Nutzer')\n",
    "\n",
    "plt.show()"
   ]
  },
  {
   "cell_type": "markdown",
   "metadata": {},
   "source": [
    "**Ergebnis:** WAS IST DAS Ergebnis."
   ]
  },
  {
   "cell_type": "markdown",
   "metadata": {},
   "source": [
    "<a id=\"cell2\"></a>\n",
    "\n",
    "# Frage 2: Verhältnis von “Erkannt” und “Nicht-Erkannt”"
   ]
  },
  {
   "cell_type": "markdown",
   "metadata": {},
   "source": [
    "**Ziel:** WAS IST DAS ZIEL."
   ]
  },
  {
   "cell_type": "code",
   "execution_count": 98,
   "metadata": {
    "scrolled": false
   },
   "outputs": [
    {
     "name": "stdout",
     "output_type": "stream",
     "text": [
      "Frames mit Gesicht: 32317\n",
      "Frames mit Blick: 409\n",
      "Verhältnis zwischen Gesicht (98.75%) und Blick(1.25%)\n"
     ]
    },
    {
     "data": {
      "image/png": "[encoded data removed]",
      "text/plain": [
       "<Figure size 1224x360 with 1 Axes>"
      ]
     },
     "metadata": {
      "needs_background": "light"
     },
     "output_type": "display_data"
    }
   ],
   "source": [
    "y_pos = np.arange(len(testers))\n",
    "\n",
    "plt.rcParams[\"figure.figsize\"] = (17, 5) # (w, h)\n",
    "\n",
    "plt.bar(y_pos, counter_gaze, align='center', color = 'b')\n",
    "plt.bar(y_pos, frames_with_face, align='center', color = 'r', bottom = counter_gaze)\n",
    "plt.xticks(y_pos, testers)\n",
    "plt.ylabel('Nutzer')\n",
    "plt.title('Anzahl der Gesichter vs. Blicke')\n",
    "\n",
    "sum_face = np.sum(frames_with_face)\n",
    "sum_gaze = np.sum(counter_gaze)\n",
    "\n",
    "percent_face = str(round(sum_face / ((sum_face + sum_gaze)/100), 2))\n",
    "percent_gaze = str(round(sum_gaze / ((sum_face + sum_gaze)/100), 2))\n",
    "\n",
    "\n",
    "print(\"Frames mit Gesicht: \" + str(sum_face))\n",
    "print(\"Frames mit Blick: \" + str(sum_gaze))\n",
    "print(\"Verhältnis zwischen Gesicht (\" + percent_face + \"%) und Blick(\" + percent_gaze + \"%)\")\n",
    "\n",
    "plt.show()"
   ]
  },
  {
   "cell_type": "markdown",
   "metadata": {},
   "source": [
    "**Ergebnis:** WAS IST DAS Ergebnis."
   ]
  },
  {
   "cell_type": "markdown",
   "metadata": {},
   "source": [
    "<a id=\"cell3\"></a>\n",
    "# Frage 3: Verteilung der Hits auf die einzelnen AOIs "
   ]
  },
  {
   "cell_type": "markdown",
   "metadata": {},
   "source": [
    "**Ziel:** WAS IST DAS ZIEL."
   ]
  },
  {
   "cell_type": "markdown",
   "metadata": {},
   "source": [
    "## Verteilung der Hits auf AOIs - gesamt"
   ]
  },
  {
   "cell_type": "markdown",
   "metadata": {},
   "source": [
    "**Ziel:** WAS IST DAS ZIEL."
   ]
  },
  {
   "cell_type": "code",
   "execution_count": 103,
   "metadata": {},
   "outputs": [
    {
     "data": {
      "text/plain": [
       "Text(0.5, 1.0, 'AOIs')"
      ]
     },
     "execution_count": 103,
     "metadata": {},
     "output_type": "execute_result"
    },
    {
     "data": {
      "image/png": "[encoded data removed]",
      "text/plain": [
       "<Figure size 1224x360 with 1 Axes>"
      ]
     },
     "metadata": {
      "needs_background": "light"
     },
     "output_type": "display_data"
    }
   ],
   "source": [
    "y_pos = np.arange(len(aoi_hits))\n",
    "\n",
    "aoi_hits.plot(kind='bar', stacked=True)\n",
    "    \n",
    "plt.ylabel('Anzahl der Treffer pro AOI')\n",
    "plt.title('AOIs')"
   ]
  },
  {
   "cell_type": "markdown",
   "metadata": {},
   "source": [
    "**Ergebnis:** WAS IST DAS Ergebnis."
   ]
  },
  {
   "cell_type": "markdown",
   "metadata": {},
   "source": [
    "## Verteilung der Hits  auf AOIs - pro Nutzer"
   ]
  },
  {
   "cell_type": "markdown",
   "metadata": {},
   "source": [
    "**Ziel:** WAS IST DAS ZIEL."
   ]
  },
  {
   "cell_type": "code",
   "execution_count": 104,
   "metadata": {},
   "outputs": [
    {
     "data": {
      "text/plain": [
       "Text(0.5, 1.0, 'Nutzer')"
      ]
     },
     "execution_count": 104,
     "metadata": {},
     "output_type": "execute_result"
    },
    {
     "data": {
      "image/png": "[encoded data removed]",
      "text/plain": [
       "<Figure size 1224x720 with 1 Axes>"
      ]
     },
     "metadata": {
      "needs_background": "light"
     },
     "output_type": "display_data"
    }
   ],
   "source": [
    "plt.rcParams[\"figure.figsize\"] = (17, 10) # (w, h)\n",
    "\n",
    "aoi_hits.transpose().plot(kind='bar', stacked=True)\n",
    "\n",
    "plt.ylabel('Anzahl der Treffer pro AOI')\n",
    "plt.title('Nutzer')"
   ]
  },
  {
   "cell_type": "markdown",
   "metadata": {},
   "source": [
    "**Ergebnis:** WAS IST DAS Ergebnis."
   ]
  },
  {
   "cell_type": "markdown",
   "metadata": {},
   "source": [
    "<a id=\"cell4\"></a>\n",
    "# Frage 4: Verteilung der Hits auf die einzelnen Positionen"
   ]
  },
  {
   "cell_type": "markdown",
   "metadata": {},
   "source": [
    "**Ziel:** WAS IST DAS ZIEL."
   ]
  },
  {
   "cell_type": "markdown",
   "metadata": {},
   "source": [
    "## Verteilung der Hits auf Positionen - gesamt"
   ]
  },
  {
   "cell_type": "markdown",
   "metadata": {},
   "source": [
    "**Ziel:** WAS IST DAS ZIEL."
   ]
  },
  {
   "cell_type": "code",
   "execution_count": 73,
   "metadata": {},
   "outputs": [
    {
     "data": {
      "text/plain": [
       "Text(0.5, 1.0, 'AOIs')"
      ]
     },
     "execution_count": 73,
     "metadata": {},
     "output_type": "execute_result"
    },
    {
     "data": {
      "image/png": "[encoded data removed]",
      "text/plain": [
       "<Figure size 1224x360 with 1 Axes>"
      ]
     },
     "metadata": {
      "needs_background": "light"
     },
     "output_type": "display_data"
    }
   ],
   "source": [
    "y_pos = np.arange(len(position_hits['tester_37']))\n",
    "\n",
    "plt.rcParams[\"figure.figsize\"] = (17, 5) # (w, h)\n",
    "plt.bar(y_pos+1, sum(position_hits[key] for key in position_hits), align='center')\n",
    "\n",
    "plt.ylabel('Anzahl der Treffer pro Position')\n",
    "plt.title('AOIs')"
   ]
  },
  {
   "cell_type": "markdown",
   "metadata": {},
   "source": [
    "**Ergebnis:** WAS IST DAS Ergebnis."
   ]
  },
  {
   "cell_type": "markdown",
   "metadata": {},
   "source": [
    "## Verteilung der Hits auf Positionen - pro Nutzer"
   ]
  },
  {
   "cell_type": "markdown",
   "metadata": {},
   "source": [
    "**Ziel:** WAS IST DAS ZIEL."
   ]
  },
  {
   "cell_type": "code",
   "execution_count": 60,
   "metadata": {},
   "outputs": [
    {
     "data": {
      "text/plain": [
       "Text(0.5, 1.0, 'Nutzer')"
      ]
     },
     "execution_count": 60,
     "metadata": {},
     "output_type": "execute_result"
    },
    {
     "data": {
      "image/png": "[encoded data removed]",
      "text/plain": [
       "<Figure size 1224x360 with 1 Axes>"
      ]
     },
     "metadata": {
      "needs_background": "light"
     },
     "output_type": "display_data"
    }
   ],
   "source": [
    "plt.rcParams[\"figure.figsize\"] = (17, 5) # (w, h)\n",
    "\n",
    "df=pd.DataFrame(position_hits).transpose()\n",
    "df.plot(kind='bar', stacked=True)\n",
    "\n",
    "plt.ylabel('Anzahl der Treffer pro Position')\n",
    "plt.title('Nutzer')"
   ]
  },
  {
   "cell_type": "markdown",
   "metadata": {},
   "source": [
    "**Ergebnis:** WAS IST DAS Ergebnis."
   ]
  },
  {
   "cell_type": "markdown",
   "metadata": {},
   "source": [
    "<a id=\"cell5\"></a>\n",
    "# Frage 5: Verteilung der Hits auf die AOIs pro Position"
   ]
  },
  {
   "cell_type": "markdown",
   "metadata": {},
   "source": [
    "**Ziel:** WAS IST DAS ZIEL."
   ]
  },
  {
   "cell_type": "markdown",
   "metadata": {},
   "source": [
    "## Position 1:"
   ]
  },
  {
   "cell_type": "code",
   "execution_count": 110,
   "metadata": {},
   "outputs": [
    {
     "data": {
      "text/plain": [
       "Text(0.5, 1.0, 'AOI Verteilung')"
      ]
     },
     "execution_count": 110,
     "metadata": {},
     "output_type": "execute_result"
    },
    {
     "data": {
      "image/png": "[encoded data removed]",
      "text/plain": [
       "<Figure size 1224x576 with 1 Axes>"
      ]
     },
     "metadata": {
      "needs_background": "light"
     },
     "output_type": "display_data"
    }
   ],
   "source": [
    "plt.rcParams[\"figure.figsize\"] = (17, 8) # (w, h)\n",
    "\n",
    "post_aoi_df = positions_by_aoi_hits[0].pivot(index=positions_by_aoi_hits[0]['annotation_pos'], columns='annotation_aoi')['count']\n",
    "post_aoi_df.plot.barh(stacked=True);\n",
    "\n",
    "plt.ylabel('Positionen')\n",
    "plt.title('AOI Verteilung')"
   ]
  },
  {
   "cell_type": "code",
   "execution_count": 112,
   "metadata": {
    "scrolled": true
   },
   "outputs": [
    {
     "name": "stdout",
     "output_type": "stream",
     "text": [
      "annotation_aoi   1    3    4    5    6    7    9    10   12   13   14   16  \\\n",
      "annotation_pos                                                               \n",
      "1               1.0  NaN  NaN  NaN  NaN  NaN  1.0  NaN  NaN  NaN  NaN  NaN   \n",
      "2               2.0  2.0  5.0  1.0  1.0  1.0  NaN  1.0  NaN  2.0  NaN  NaN   \n",
      "3               NaN  NaN  NaN  NaN  NaN  NaN  NaN  NaN  NaN  NaN  NaN  NaN   \n",
      "4               NaN  1.0  8.0  3.0  7.0  NaN  1.0  NaN  3.0  NaN  NaN  1.0   \n",
      "5               1.0  NaN  NaN  NaN  NaN  NaN  NaN  NaN  NaN  NaN  5.0  NaN   \n",
      "\n",
      "annotation_aoi   17   18   19   20   21   23   24   25  \n",
      "annotation_pos                                          \n",
      "1               1.0  NaN  NaN  4.0  NaN  NaN  NaN  NaN  \n",
      "2               NaN  NaN  2.0  1.0  1.0  2.0  1.0  NaN  \n",
      "3               NaN  NaN  NaN  NaN  NaN  NaN  NaN  1.0  \n",
      "4               NaN  NaN  NaN  NaN  3.0  NaN  NaN  3.0  \n",
      "5               3.0  2.0  1.0  NaN  NaN  1.0  NaN  4.0  \n"
     ]
    },
    {
     "ename": "IndexError",
     "evalue": "index 20 is out of bounds for axis 0 with size 20",
     "output_type": "error",
     "traceback": [
      "\u001b[0;31m---------------------------------------------------------------------------\u001b[0m",
      "\u001b[0;31mIndexError\u001b[0m                                Traceback (most recent call last)",
      "\u001b[0;32m<ipython-input-112-76e714966bec>\u001b[0m in \u001b[0;36m<module>\u001b[0;34m\u001b[0m\n\u001b[1;32m     22\u001b[0m \u001b[0;32mfor\u001b[0m \u001b[0mnum\u001b[0m \u001b[0;32min\u001b[0m \u001b[0;34m[\u001b[0m\u001b[0;36m0\u001b[0m\u001b[0;34m,\u001b[0m\u001b[0;36m1\u001b[0m\u001b[0;34m,\u001b[0m\u001b[0;36m2\u001b[0m\u001b[0;34m,\u001b[0m\u001b[0;36m3\u001b[0m\u001b[0;34m,\u001b[0m\u001b[0;36m4\u001b[0m\u001b[0;34m]\u001b[0m\u001b[0;34m:\u001b[0m\u001b[0;34m\u001b[0m\u001b[0;34m\u001b[0m\u001b[0m\n\u001b[1;32m     23\u001b[0m     \u001b[0;32mfor\u001b[0m \u001b[0mj\u001b[0m \u001b[0;32min\u001b[0m \u001b[0maois\u001b[0m\u001b[0;34m:\u001b[0m\u001b[0;34m\u001b[0m\u001b[0;34m\u001b[0m\u001b[0m\n\u001b[0;32m---> 24\u001b[0;31m         \u001b[0mtext\u001b[0m \u001b[0;34m=\u001b[0m \u001b[0max\u001b[0m\u001b[0;34m.\u001b[0m\u001b[0mtext\u001b[0m\u001b[0;34m(\u001b[0m\u001b[0mj\u001b[0m\u001b[0;34m,\u001b[0m \u001b[0mnum\u001b[0m\u001b[0;34m,\u001b[0m \u001b[0mstr\u001b[0m\u001b[0;34m(\u001b[0m\u001b[0mint\u001b[0m\u001b[0;34m(\u001b[0m\u001b[0mharvest\u001b[0m\u001b[0;34m[\u001b[0m\u001b[0mnum\u001b[0m\u001b[0;34m]\u001b[0m\u001b[0;34m[\u001b[0m\u001b[0mj\u001b[0m\u001b[0;34m]\u001b[0m\u001b[0;34m)\u001b[0m\u001b[0;34m)\u001b[0m\u001b[0;34m,\u001b[0m \u001b[0mha\u001b[0m\u001b[0;34m=\u001b[0m\u001b[0;34m\"center\"\u001b[0m\u001b[0;34m,\u001b[0m \u001b[0mva\u001b[0m\u001b[0;34m=\u001b[0m\u001b[0;34m\"center\"\u001b[0m\u001b[0;34m,\u001b[0m \u001b[0mcolor\u001b[0m\u001b[0;34m=\u001b[0m\u001b[0;34m\"r\"\u001b[0m\u001b[0;34m)\u001b[0m\u001b[0;34m\u001b[0m\u001b[0;34m\u001b[0m\u001b[0m\n\u001b[0m\u001b[1;32m     25\u001b[0m \u001b[0;34m\u001b[0m\u001b[0m\n\u001b[1;32m     26\u001b[0m \u001b[0max\u001b[0m\u001b[0;34m.\u001b[0m\u001b[0mset_title\u001b[0m\u001b[0;34m(\u001b[0m\u001b[0;34m\"Hits der AOI pro Position\"\u001b[0m\u001b[0;34m)\u001b[0m\u001b[0;34m\u001b[0m\u001b[0;34m\u001b[0m\u001b[0m\n",
      "\u001b[0;31mIndexError\u001b[0m: index 20 is out of bounds for axis 0 with size 20"
     ]
    },
    {
     "data": {
      "image/png": "[encoded data removed]",
      "text/plain": [
       "<Figure size 1224x576 with 1 Axes>"
      ]
     },
     "metadata": {
      "needs_background": "light"
     },
     "output_type": "display_data"
    }
   ],
   "source": [
    "positions = [0,1,2,3,4,5]\n",
    "aois = range(0, 26)\n",
    "print(post_aoi_df)\n",
    "harvest = np.nan_to_num(post_aoi_df.values)\n",
    "fig, ax = plt.subplots()\n",
    "im = ax.imshow(harvest)\n",
    "\n",
    "# We want to show all ticks...\n",
    "ax.set_xticks(np.arange(len(aois)))\n",
    "ax.set_yticks(np.arange(len(positions)))\n",
    "\n",
    "# ... and label them with the respective list entries\n",
    "\n",
    "ax.set_xticklabels(aois)\n",
    "ax.set_yticklabels(positions)\n",
    "\n",
    "# Rotate the tick labels and set their alignment.\n",
    "plt.setp(ax.get_xticklabels(), rotation=45, ha=\"right\",\n",
    "         rotation_mode=\"anchor\")\n",
    "\n",
    "# Loop over data dimensions and create text annotations.\n",
    "for num in [0,1,2,3,4]:\n",
    "    for j in aois:\n",
    "        text = ax.text(j, num, str(int(harvest[num][j])), ha=\"center\", va=\"center\", color=\"r\")\n",
    "\n",
    "ax.set_title(\"Hits der AOI pro Position\")\n",
    "# Add colorbar, make sure to specify tick locations to match desired ticklabels\n",
    "#cbar = fig.colorbar(im, ticks=[-1, 0, 14])\n",
    "#cbar.ax.set_yticklabels(['< -1', '0', '> 14']) \n",
    "\n",
    "plt.show()"
   ]
  },
  {
   "cell_type": "markdown",
   "metadata": {},
   "source": [
    "**Ergebnis:** WAS IST DAS Ergebnis."
   ]
  },
  {
   "cell_type": "markdown",
   "metadata": {},
   "source": [
    "<a id=\"cell6\"></a>\n",
    "# Frage 6: Verteilung der Hits auf die Clients"
   ]
  },
  {
   "cell_type": "markdown",
   "metadata": {},
   "source": [
    "**Ziel:** WAS IST DAS ZIEL."
   ]
  },
  {
   "cell_type": "code",
   "execution_count": 108,
   "metadata": {},
   "outputs": [
    {
     "data": {
      "text/plain": [
       "Text(0.5, 1.0, 'Nutzer')"
      ]
     },
     "execution_count": 108,
     "metadata": {},
     "output_type": "execute_result"
    },
    {
     "data": {
      "image/png": "[encoded data removed]",
      "text/plain": [
       "<Figure size 1224x360 with 1 Axes>"
      ]
     },
     "metadata": {
      "needs_background": "light"
     },
     "output_type": "display_data"
    }
   ],
   "source": [
    "plt.rcParams[\"figure.figsize\"] = (17, 5) # (w, h)\n",
    "\n",
    "df=pd.DataFrame(client_data).transpose()\n",
    "df.plot(kind='bar', stacked=True)\n",
    "\n",
    "plt.ylabel('Anzahl der Treffer pro Client')\n",
    "plt.title('Nutzer')"
   ]
  },
  {
   "cell_type": "markdown",
   "metadata": {},
   "source": [
    "**Ergebnis:** WAS IST DAS Ergebnis."
   ]
  }
 ],
 "metadata": {
  "kernelspec": {
   "display_name": "Python 3",
   "language": "python",
   "name": "python3"
  },
  "language_info": {
   "codemirror_mode": {
    "name": "ipython",
    "version": 3
   },
   "file_extension": ".py",
   "mimetype": "text/x-python",
   "name": "python",
   "nbconvert_exporter": "python",
   "pygments_lexer": "ipython3",
   "version": "3.7.3"
  }
 },
 "nbformat": 4,
 "nbformat_minor": 2
}
