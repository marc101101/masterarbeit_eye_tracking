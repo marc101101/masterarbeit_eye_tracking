{
 "cells": [
  {
   "cell_type": "code",
   "execution_count": 1,
   "metadata": {},
   "outputs": [],
   "source": [
    "import os\n",
    "import pandas as pd\n",
    "import numpy as np\n",
    "import math\n",
    "from ipywidgets import interactive, IntSlider, FloatSlider"
   ]
  },
  {
   "cell_type": "code",
   "execution_count": 2,
   "metadata": {},
   "outputs": [],
   "source": [
    "from py.helper import AOI\n",
    "from py.helper import Intersection\n",
    "from py.helper import translate, rotate_x, rotate_y, rotate_z, scale_x, scale_y, scale_z\n",
    "from py.helper import plot, plot_with_image, plot_vectors, plot_vectors_with_image, plot_vectors_with_image_and_aois, plot_heatmap\n",
    "from py.helper import apply_transformation, normalize, get_all_aois_intersection, set_closest_intersection_and_get_distance, get_gaze_pairs"
   ]
  },
  {
   "cell_type": "code",
   "execution_count": 3,
   "metadata": {},
   "outputs": [],
   "source": [
    "def get_aois():\n",
    "    schrank_oben = AOI([0, 330, 75], [800, 330, 75], [0, 496, 75], 'orange', 'Schrank oben')\n",
    "    wand = AOI([0, 330, 1], [0, 200, 1], [800, 330, 1], 'blue', 'Wand zwischen Schränken')\n",
    "    schrank_unten = AOI([0, 200, 156], [800, 200, 156], [0, 0, 156], 'white', 'Schrank unten')\n",
    "    af = AOI([0, 200, 0], [800, 200, 0], [0, 200, 156], 'green', 'Arbeitsfläche')\n",
    "    ks = AOI([800, 0, 156], [935, 0, 156], [800, 496, 156], 'cyan', 'Kühlschrank')\n",
    "    \n",
    "    return [schrank_oben, wand, schrank_unten, ks, af]"
   ]
  },
  {
   "cell_type": "code",
   "execution_count": 4,
   "metadata": {},
   "outputs": [],
   "source": [
    "def run_aoi_evaluation(aois, transformation_matrix, coordinates, gazes, heatmap_prefix):\n",
    "    # normierte Blickrichtung auf Startkoordinaten addieren\n",
    "    gaze_ends = np.swapaxes(np.swapaxes(coordinates, 0, 1) + np.swapaxes(gazes, 0, 1) * 10000, 0, 1)\n",
    "\n",
    "    # transformieren\n",
    "    transformed_coordinates = apply_transformation(coordinates, transformation_matrix, swap=False)\n",
    "    transformed_gaze_ends = apply_transformation(gaze_ends, transformation_matrix, swap=False)\n",
    "\n",
    "    # Blickrichtung zurückrechnen und normalisieren\n",
    "    transformed_directions = transformed_gaze_ends - transformed_coordinates\n",
    "    transformed_gazes = np.array([normalize(transformed_directions[i]) for i in range(len(transformed_directions))])\n",
    "\n",
    "    # Intersektion Ojekte erstellen\n",
    "    intersections = get_all_aois_intersection(transformed_coordinates, transformed_gazes, aois)\n",
    "\n",
    "    # Kürzeste Entfernung für jeden Punkt\n",
    "    distances = np.array([set_closest_intersection_and_get_distance(intersections[i]) for i in range(len(intersections))])\n",
    "\n",
    "    # Start- und Endpunkte der Blicke (Start = Ende, wenn kein Schnittpunkt => Entfernung INF)\n",
    "    gaze_starts, gaze_ends = get_gaze_pairs(transformed_coordinates, transformed_gazes, distances)\n",
    "\n",
    "    gaze_starts = np.swapaxes(gaze_starts, 0, 1)\n",
    "    gaze_ends = np.swapaxes(gaze_ends, 0, 1)\n",
    "\n",
    "    #plot_vectors(gaze_starts, gaze_ends, 'Test')\n",
    "    #plot_vectors_with_image_and_aois(gaze_starts, gaze_ends, aois, 'Test')\n",
    "\n",
    "    for aoi in aois:\n",
    "        plot_heatmap(aoi, aoi.title, save=True, filename='%s%s.png' % (heatmap_prefix, aoi.title))"
   ]
  },
  {
   "cell_type": "code",
   "execution_count": 5,
   "metadata": {},
   "outputs": [],
   "source": [
    "df = pd.read_csv('./2_raw/2019-02-27/webcam_2019-02-27-14-57.csv', sep=', ', engine='python')\n",
    "\n",
    "gaze_df = df[(df[['success']] == 1).all(axis=1)]\n",
    "gaze_df = gaze_df[(gaze_df[['gaze_0_x','gaze_0_y','gaze_0_z']] != 0).all(axis=1)]\n",
    "\n",
    "coords = np.array([gaze_df['eye_lmk_X_0'], gaze_df['eye_lmk_Y_0'], gaze_df['eye_lmk_Z_0']])\n",
    "gazes = np.array([gaze_df['gaze_0_x'], gaze_df['gaze_0_y'], gaze_df['gaze_0_z']])"
   ]
  },
  {
   "cell_type": "code",
   "execution_count": 6,
   "metadata": {
    "scrolled": false
   },
   "outputs": [
    {
     "data": {
      "text/plain": [
       "<Figure size 1440x360 with 0 Axes>"
      ]
     },
     "metadata": {},
     "output_type": "display_data"
    }
   ],
   "source": [
    "def get_transformation_matrix():\n",
    "    rot_x = rotate_x(math.radians(10))\n",
    "    rot_y = rotate_y(math.radians(30))\n",
    "    rot_z = rotate_z(math.radians(-5))\n",
    "\n",
    "    s_x = scale_x(0.4)\n",
    "    s_y = scale_y(0.4)\n",
    "    s_z = scale_z(0.4)\n",
    "\n",
    "    d = translate(125, 400, 25)\n",
    "    \n",
    "    return scale_x(-1) @ rotate_y(math.radians(-90)) @ d @ s_z @ s_y @ s_x @ rot_z @ rot_y @ rot_x @ scale_y(-1)\n",
    "\n",
    "run_aoi_evaluation(get_aois(), get_transformation_matrix(), coords, gazes, './images/test/')"
   ]
  },
  {
   "cell_type": "code",
   "execution_count": 7,
   "metadata": {},
   "outputs": [],
   "source": [
    "# siehe https://stackoverflow.com/questions/19587118/iterating-through-directories-with-python\n",
    "\n",
    "root = './0_sorted'\n",
    "FILE_NAMES = []\n",
    "\n",
    "for subdir, dirs, files in os.walk(root):\n",
    "    for file in files:\n",
    "        if 'webcam_2019' not in file or '.csv' not in file:\n",
    "            continue\n",
    "        FILE_NAMES.append(os.path.join(subdir, file).replace('\\\\', '/'))"
   ]
  },
  {
   "cell_type": "code",
   "execution_count": 8,
   "metadata": {},
   "outputs": [
    {
     "data": {
      "text/plain": [
       "<Figure size 1440x360 with 0 Axes>"
      ]
     },
     "metadata": {},
     "output_type": "display_data"
    }
   ],
   "source": [
    "for f in FILE_NAMES:\n",
    "    df = pd.read_csv(f, sep=', ', engine='python')\n",
    "    \n",
    "    gaze_df = df[(df[['success']] == 1).all(axis=1)]\n",
    "    gaze_df = gaze_df[(gaze_df[['gaze_0_x','gaze_0_y','gaze_0_z']] != 0).all(axis=1)]\n",
    "\n",
    "    coords = np.array([gaze_df['eye_lmk_X_0'], gaze_df['eye_lmk_Y_0'], gaze_df['eye_lmk_Z_0']])\n",
    "    gazes = np.array([gaze_df['gaze_0_x'], gaze_df['gaze_0_y'], gaze_df['gaze_0_z']])\n",
    "    \n",
    "    path = f.replace('./0_sorted', './images').replace('.csv','/')\n",
    "    \n",
    "    run_aoi_evaluation(get_aois(), get_transformation_matrix(), coords, gazes, path)\n",
    "    "
   ]
  }
 ],
 "metadata": {
  "kernelspec": {
   "display_name": "Python 3",
   "language": "python",
   "name": "python3"
  },
  "language_info": {
   "codemirror_mode": {
    "name": "ipython",
    "version": 3
   },
   "file_extension": ".py",
   "mimetype": "text/x-python",
   "name": "python",
   "nbconvert_exporter": "python",
   "pygments_lexer": "ipython3",
   "version": "3.6.8"
  }
 },
 "nbformat": 4,
 "nbformat_minor": 2
}
